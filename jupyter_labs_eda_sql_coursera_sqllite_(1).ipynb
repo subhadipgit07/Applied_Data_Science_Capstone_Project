{
  "cells": [
    {
      "cell_type": "markdown",
      "metadata": {
        "id": "Y3avgOvEoJAu"
      },
      "source": [
        "<p style=\"text-align:center\">\n",
        "    <a href=\"https://skills.network/?utm_medium=Exinfluencer&utm_source=Exinfluencer&utm_content=000026UJ&utm_term=10006555&utm_id=NA-SkillsNetwork-Channel-SkillsNetworkCoursesIBMDS0321ENSkillsNetwork26802033-2022-01-01\" target=\"_blank\">\n",
        "    <img src=\"https://cf-courses-data.s3.us.cloud-object-storage.appdomain.cloud/assets/logos/SN_web_lightmode.png\" width=\"200\" alt=\"Skills Network Logo\"  />\n",
        "    </a>\n",
        "</p>\n",
        "\n",
        "<h1 align=center><font size = 5>Assignment: SQL Notebook for Peer Assignment</font></h1>\n",
        "\n",
        "Estimated time needed: **60** minutes.\n",
        "\n",
        "## Introduction\n",
        "\n",
        "Using this Python notebook you will:\n",
        "\n",
        "1.  Understand the Spacex DataSet\n",
        "2.  Load the dataset  into the corresponding table in a Db2 database\n",
        "3.  Execute SQL queries to answer assignment questions\n"
      ]
    },
    {
      "cell_type": "markdown",
      "metadata": {
        "id": "Nn_JoJCfoJA4"
      },
      "source": [
        "## Overview of the DataSet\n",
        "\n",
        "SpaceX has gained worldwide attention for a series of historic milestones.\n",
        "\n",
        "It is the only private company ever to return a spacecraft from low-earth orbit, which it first accomplished in December 2010.\n",
        "SpaceX advertises Falcon 9 rocket launches on its website with a cost of 62 million dollars wheras other providers cost upward of 165 million dollars each, much of the savings is because Space X can reuse the first stage.\n",
        "\n",
        "Therefore if we can determine if the first stage will land, we can determine the cost of a launch.\n",
        "\n",
        "This information can be used if an alternate company wants to bid against SpaceX for a rocket launch.\n",
        "\n",
        "This dataset includes a record for each payload carried during a SpaceX mission into outer space.\n"
      ]
    },
    {
      "cell_type": "markdown",
      "metadata": {
        "id": "fy5FoNOWoJA6"
      },
      "source": [
        "### Download the datasets\n",
        "\n",
        "This assignment requires you to load the spacex dataset.\n",
        "\n",
        "In many cases the dataset to be analyzed is available as a .CSV (comma separated values) file, perhaps on the internet. Click on the link below to download and save the dataset (.CSV file):\n",
        "\n",
        "<a href=\"https://cf-courses-data.s3.us.cloud-object-storage.appdomain.cloud/IBM-DS0321EN-SkillsNetwork/labs/module_2/data/Spacex.csv?utm_medium=Exinfluencer&utm_source=Exinfluencer&utm_content=000026UJ&utm_term=10006555&utm_id=NA-SkillsNetwork-Channel-SkillsNetworkCoursesIBMDS0321ENSkillsNetwork26802033-2022-01-01\" target=\"_blank\">Spacex DataSet</a>\n"
      ]
    },
    {
      "cell_type": "markdown",
      "metadata": {
        "id": "qFSGWJUmoJA7"
      },
      "source": [
        "### Store the dataset in database table\n",
        "\n",
        "**it is highly recommended to manually load the table using the database console LOAD tool in DB2**.\n",
        "\n",
        "<img src = \"https://cf-courses-data.s3.us.cloud-object-storage.appdomain.cloud/IBM-DS0321EN-SkillsNetwork/labs/module_2/images/spacexload.png\">\n",
        "\n",
        "Now open the Db2 console, open the LOAD tool, Select / Drag the .CSV file for the  dataset, Next create a New Table, and then follow the steps on-screen instructions to load the data. Name the new table as follows:\n",
        "\n",
        "**SPACEXDATASET**\n",
        "\n",
        "**Follow these steps while using old DB2 UI which is having Open Console Screen**\n",
        "\n",
        "**Note:While loading Spacex dataset, ensure that detect datatypes is disabled. Later click on the pencil icon(edit option).**\n",
        "\n",
        "1.  Change the Date Format by manually typing DD-MM-YYYY and timestamp format as DD-MM-YYYY HH\\:MM:SS\n",
        "\n",
        "2.  Change the PAYLOAD_MASS\\_\\_KG\\_  datatype  to INTEGER.\n",
        "\n",
        "<img src = \"https://cf-courses-data.s3.us.cloud-object-storage.appdomain.cloud/IBM-DS0321EN-SkillsNetwork/labs/module_2/images/spacexload2.png\">\n"
      ]
    },
    {
      "cell_type": "markdown",
      "metadata": {
        "id": "ZC9W8B-FoJA8"
      },
      "source": [
        "**Changes to be considered when having DB2 instance with the new UI having Go to UI screen**\n",
        "\n",
        "*   Refer to this insruction in this <a href=\"https://cf-courses-data.s3.us.cloud-object-storage.appdomain.cloud/IBMDeveloperSkillsNetwork-DB0201EN-SkillsNetwork/labs/Labs_Coursera_V5/labs/Lab%20-%20Sign%20up%20for%20IBM%20Cloud%20-%20Create%20Db2%20service%20instance%20-%20Get%20started%20with%20the%20Db2%20console/instructional-labs.md.html?utm_medium=Exinfluencer&utm_source=Exinfluencer&utm_content=000026UJ&utm_term=10006555&utm_id=NA-SkillsNetwork-Channel-SkillsNetworkCoursesIBMDS0321ENSkillsNetwork26802033-2022-01-01\">link</a> for viewing  the new  Go to UI screen.\n",
        "\n",
        "*   Later click on **Data link(below SQL)**  in the Go to UI screen  and click on **Load Data** tab.\n",
        "\n",
        "*   Later browse for the downloaded spacex file.\n",
        "\n",
        "<img src=\"https://cf-courses-data.s3.us.cloud-object-storage.appdomain.cloud/IBM-DS0321EN-SkillsNetwork/labs/module_2/images/browsefile.png\" width=\"800\"/>\n",
        "\n",
        "*   Once done select the schema andload the file.\n",
        "\n",
        " <img src=\"https://cf-courses-data.s3.us.cloud-object-storage.appdomain.cloud/IBM-DS0321EN-SkillsNetwork/labs/module_2/images/spacexload3.png\" width=\"800\"/>\n"
      ]
    },
    {
      "cell_type": "code",
      "execution_count": 1,
      "metadata": {
        "colab": {
          "base_uri": "https://localhost:8080/"
        },
        "id": "TTkRn-bLoJA9",
        "outputId": "041ca40b-043f-403c-9580-92555f07924e"
      },
      "outputs": [
        {
          "output_type": "stream",
          "name": "stdout",
          "text": [
            "Looking in indexes: https://pypi.org/simple, https://us-python.pkg.dev/colab-wheels/public/simple/\n",
            "Collecting sqlalchemy==1.3.9\n",
            "  Downloading SQLAlchemy-1.3.9.tar.gz (6.0 MB)\n",
            "\u001b[K     |████████████████████████████████| 6.0 MB 5.0 MB/s \n",
            "\u001b[?25hBuilding wheels for collected packages: sqlalchemy\n",
            "  Building wheel for sqlalchemy (setup.py) ... \u001b[?25l\u001b[?25hdone\n",
            "  Created wheel for sqlalchemy: filename=SQLAlchemy-1.3.9-cp37-cp37m-linux_x86_64.whl size=1203584 sha256=81e1660c82a3511160ee07cb95a42be1711a09b26d2bbd0f94ec24f6894502bd\n",
            "  Stored in directory: /root/.cache/pip/wheels/03/71/13/010faf12246f72dc76b4150e6e599d13a85b4435e06fb9e51f\n",
            "Successfully built sqlalchemy\n",
            "Installing collected packages: sqlalchemy\n",
            "  Attempting uninstall: sqlalchemy\n",
            "    Found existing installation: SQLAlchemy 1.4.40\n",
            "    Uninstalling SQLAlchemy-1.4.40:\n",
            "      Successfully uninstalled SQLAlchemy-1.4.40\n",
            "Successfully installed sqlalchemy-1.3.9\n"
          ]
        }
      ],
      "source": [
        "!pip install sqlalchemy==1.3.9\n"
      ]
    },
    {
      "cell_type": "markdown",
      "metadata": {
        "id": "iCQ0WubEoJBA"
      },
      "source": [
        "### Connect to the database\n",
        "\n",
        "Let us first load the SQL extension and establish a connection with the database\n"
      ]
    },
    {
      "cell_type": "code",
      "execution_count": 2,
      "metadata": {
        "id": "6S4iG96zoJBB"
      },
      "outputs": [],
      "source": [
        "%load_ext sql"
      ]
    },
    {
      "cell_type": "code",
      "execution_count": 3,
      "metadata": {
        "id": "VlV5UBanoJBB"
      },
      "outputs": [],
      "source": [
        "import csv, sqlite3\n",
        "\n",
        "con = sqlite3.connect(\"my_data1.db\")\n",
        "cur = con.cursor()"
      ]
    },
    {
      "cell_type": "code",
      "execution_count": 4,
      "metadata": {
        "colab": {
          "base_uri": "https://localhost:8080/"
        },
        "id": "BNjM3fM7oJBB",
        "outputId": "7e639238-8372-48bb-a273-170197973048"
      },
      "outputs": [
        {
          "output_type": "stream",
          "name": "stdout",
          "text": [
            "\u001b[K     |████████████████████████████████| 9.5 MB 5.4 MB/s \n",
            "\u001b[?25h"
          ]
        }
      ],
      "source": [
        "!pip install -q pandas==1.1.5"
      ]
    },
    {
      "cell_type": "code",
      "execution_count": 5,
      "metadata": {
        "colab": {
          "base_uri": "https://localhost:8080/",
          "height": 35
        },
        "id": "pd01lCssoJBC",
        "outputId": "ada7edd7-1996-4d8c-fd40-254c5f28a7fe"
      },
      "outputs": [
        {
          "output_type": "execute_result",
          "data": {
            "text/plain": [
              "'Connected: @my_data1.db'"
            ],
            "application/vnd.google.colaboratory.intrinsic+json": {
              "type": "string"
            }
          },
          "metadata": {},
          "execution_count": 5
        }
      ],
      "source": [
        "%sql sqlite:///my_data1.db"
      ]
    },
    {
      "cell_type": "code",
      "execution_count": 6,
      "metadata": {
        "colab": {
          "base_uri": "https://localhost:8080/"
        },
        "id": "EwowSYE-oJBC",
        "outputId": "f6beeb87-b665-48e5-9c0e-b47e388bfa85"
      },
      "outputs": [
        {
          "output_type": "stream",
          "name": "stderr",
          "text": [
            "/usr/local/lib/python3.7/dist-packages/pandas/core/generic.py:2882: UserWarning: The spaces in these column names will not be changed. In pandas versions < 0.14, spaces were converted to underscores.\n",
            "  both result in 0.1234 being formatted as 0.12.\n"
          ]
        }
      ],
      "source": [
        "import pandas as pd\n",
        "df = pd.read_csv(\"https://cf-courses-data.s3.us.cloud-object-storage.appdomain.cloud/IBM-DS0321EN-SkillsNetwork/labs/module_2/data/Spacex.csv\")\n",
        "df.to_sql(\"SPACEXTBL\", con, if_exists='replace', index=False,method=\"multi\")"
      ]
    },
    {
      "cell_type": "markdown",
      "metadata": {
        "id": "gyuJ8-g3oJBD"
      },
      "source": [
        "## Tasks\n",
        "\n",
        "Now write and execute SQL queries to solve the assignment tasks.\n",
        "\n",
        "**Note: If the column names are in mixed case enclose it in double quotes\n",
        "For Example \"Landing_Outcome\"**\n",
        "\n",
        "### Task 1\n",
        "\n",
        "##### Display the names of the unique launch sites  in the space mission\n"
      ]
    },
    {
      "cell_type": "code",
      "execution_count": 7,
      "metadata": {
        "id": "_hBMKzaDoJBD"
      },
      "outputs": [],
      "source": [
        "#sql SELECT * from SPACEXTBL; \n"
      ]
    },
    {
      "cell_type": "code",
      "execution_count": 9,
      "metadata": {
        "colab": {
          "base_uri": "https://localhost:8080/",
          "height": 161
        },
        "id": "TQrsPI72oJBD",
        "outputId": "e26b7cd5-7ab6-4641-9420-76e5143a707d"
      },
      "outputs": [
        {
          "output_type": "stream",
          "name": "stdout",
          "text": [
            " * sqlite:///my_data1.db\n",
            "Done.\n"
          ]
        },
        {
          "output_type": "execute_result",
          "data": {
            "text/plain": [
              "[('CCAFS LC-40',), ('VAFB SLC-4E',), ('KSC LC-39A',), ('CCAFS SLC-40',)]"
            ],
            "text/html": [
              "<table>\n",
              "    <thead>\n",
              "        <tr>\n",
              "            <th>Launch_Site</th>\n",
              "        </tr>\n",
              "    </thead>\n",
              "    <tbody>\n",
              "        <tr>\n",
              "            <td>CCAFS LC-40</td>\n",
              "        </tr>\n",
              "        <tr>\n",
              "            <td>VAFB SLC-4E</td>\n",
              "        </tr>\n",
              "        <tr>\n",
              "            <td>KSC LC-39A</td>\n",
              "        </tr>\n",
              "        <tr>\n",
              "            <td>CCAFS SLC-40</td>\n",
              "        </tr>\n",
              "    </tbody>\n",
              "</table>"
            ]
          },
          "metadata": {},
          "execution_count": 9
        }
      ],
      "source": [
        "sql SELECT distinct Launch_Site from SPACEXTBL ;\n"
      ]
    },
    {
      "cell_type": "raw",
      "metadata": {
        "id": "ZJj51XyEoJBE"
      },
      "source": [
        "### Task 2\n",
        "\n",
        "##### Display 5 records where launch sites begin with the string 'CCA'\n"
      ]
    },
    {
      "cell_type": "code",
      "execution_count": null,
      "metadata": {
        "id": "PL2le12ToJBE",
        "outputId": "5659f715-e120-44f3-fedb-7f4c9fe36230"
      },
      "outputs": [
        {
          "name": "stdout",
          "output_type": "stream",
          "text": [
            " * sqlite:///my_data1.db\n",
            "Done.\n"
          ]
        },
        {
          "data": {
            "text/html": [
              "<table>\n",
              "    <thead>\n",
              "        <tr>\n",
              "            <th>Date</th>\n",
              "            <th>Time (UTC)</th>\n",
              "            <th>Booster_Version</th>\n",
              "            <th>Launch_Site</th>\n",
              "            <th>Payload</th>\n",
              "            <th>PAYLOAD_MASS__KG_</th>\n",
              "            <th>Orbit</th>\n",
              "            <th>Customer</th>\n",
              "            <th>Mission_Outcome</th>\n",
              "            <th>Landing _Outcome</th>\n",
              "        </tr>\n",
              "    </thead>\n",
              "    <tbody>\n",
              "        <tr>\n",
              "            <td>04-06-2010</td>\n",
              "            <td>18:45:00</td>\n",
              "            <td>F9 v1.0  B0003</td>\n",
              "            <td>CCAFS LC-40</td>\n",
              "            <td>Dragon Spacecraft Qualification Unit</td>\n",
              "            <td>0</td>\n",
              "            <td>LEO</td>\n",
              "            <td>SpaceX</td>\n",
              "            <td>Success</td>\n",
              "            <td>Failure (parachute)</td>\n",
              "        </tr>\n",
              "        <tr>\n",
              "            <td>08-12-2010</td>\n",
              "            <td>15:43:00</td>\n",
              "            <td>F9 v1.0  B0004</td>\n",
              "            <td>CCAFS LC-40</td>\n",
              "            <td>Dragon demo flight C1, two CubeSats, barrel of Brouere cheese</td>\n",
              "            <td>0</td>\n",
              "            <td>LEO (ISS)</td>\n",
              "            <td>NASA (COTS) NRO</td>\n",
              "            <td>Success</td>\n",
              "            <td>Failure (parachute)</td>\n",
              "        </tr>\n",
              "        <tr>\n",
              "            <td>22-05-2012</td>\n",
              "            <td>07:44:00</td>\n",
              "            <td>F9 v1.0  B0005</td>\n",
              "            <td>CCAFS LC-40</td>\n",
              "            <td>Dragon demo flight C2</td>\n",
              "            <td>525</td>\n",
              "            <td>LEO (ISS)</td>\n",
              "            <td>NASA (COTS)</td>\n",
              "            <td>Success</td>\n",
              "            <td>No attempt</td>\n",
              "        </tr>\n",
              "        <tr>\n",
              "            <td>08-10-2012</td>\n",
              "            <td>00:35:00</td>\n",
              "            <td>F9 v1.0  B0006</td>\n",
              "            <td>CCAFS LC-40</td>\n",
              "            <td>SpaceX CRS-1</td>\n",
              "            <td>500</td>\n",
              "            <td>LEO (ISS)</td>\n",
              "            <td>NASA (CRS)</td>\n",
              "            <td>Success</td>\n",
              "            <td>No attempt</td>\n",
              "        </tr>\n",
              "        <tr>\n",
              "            <td>01-03-2013</td>\n",
              "            <td>15:10:00</td>\n",
              "            <td>F9 v1.0  B0007</td>\n",
              "            <td>CCAFS LC-40</td>\n",
              "            <td>SpaceX CRS-2</td>\n",
              "            <td>677</td>\n",
              "            <td>LEO (ISS)</td>\n",
              "            <td>NASA (CRS)</td>\n",
              "            <td>Success</td>\n",
              "            <td>No attempt</td>\n",
              "        </tr>\n",
              "    </tbody>\n",
              "</table>"
            ],
            "text/plain": [
              "[('04-06-2010', '18:45:00', 'F9 v1.0  B0003', 'CCAFS LC-40', 'Dragon Spacecraft Qualification Unit', 0, 'LEO', 'SpaceX', 'Success', 'Failure (parachute)'),\n",
              " ('08-12-2010', '15:43:00', 'F9 v1.0  B0004', 'CCAFS LC-40', 'Dragon demo flight C1, two CubeSats, barrel of Brouere cheese', 0, 'LEO (ISS)', 'NASA (COTS) NRO', 'Success', 'Failure (parachute)'),\n",
              " ('22-05-2012', '07:44:00', 'F9 v1.0  B0005', 'CCAFS LC-40', 'Dragon demo flight C2', 525, 'LEO (ISS)', 'NASA (COTS)', 'Success', 'No attempt'),\n",
              " ('08-10-2012', '00:35:00', 'F9 v1.0  B0006', 'CCAFS LC-40', 'SpaceX CRS-1', 500, 'LEO (ISS)', 'NASA (CRS)', 'Success', 'No attempt'),\n",
              " ('01-03-2013', '15:10:00', 'F9 v1.0  B0007', 'CCAFS LC-40', 'SpaceX CRS-2', 677, 'LEO (ISS)', 'NASA (CRS)', 'Success', 'No attempt')]"
            ]
          },
          "execution_count": 151,
          "metadata": {},
          "output_type": "execute_result"
        }
      ],
      "source": [
        "sql SELECT * from SPACEXTBL WHERE LAUNCH_SITE LIKE 'CCA%' LIMIT 5;\n"
      ]
    },
    {
      "cell_type": "markdown",
      "metadata": {
        "id": "8cQSZVuVoJBE"
      },
      "source": [
        "### Task 3\n",
        "\n",
        "##### Display the total payload mass carried by boosters launched by NASA (CRS)\n"
      ]
    },
    {
      "cell_type": "code",
      "execution_count": null,
      "metadata": {
        "id": "zJV2T-hnoJBF",
        "outputId": "530afeaf-c123-4fd0-d8a6-0243277abaa6"
      },
      "outputs": [
        {
          "name": "stdout",
          "output_type": "stream",
          "text": [
            " * sqlite:///my_data1.db\n",
            "Done.\n"
          ]
        },
        {
          "data": {
            "text/html": [
              "<table>\n",
              "    <thead>\n",
              "        <tr>\n",
              "            <th>Total_Payload</th>\n",
              "        </tr>\n",
              "    </thead>\n",
              "    <tbody>\n",
              "        <tr>\n",
              "            <td>111268</td>\n",
              "        </tr>\n",
              "    </tbody>\n",
              "</table>"
            ],
            "text/plain": [
              "[(111268,)]"
            ]
          },
          "execution_count": 147,
          "metadata": {},
          "output_type": "execute_result"
        }
      ],
      "source": [
        "sql SELECT SUM(PAYLOAD_MASS__KG_) as Total_Payload from SPACEXTBL where PAYLOAD LIKE '%CRS%';\n"
      ]
    },
    {
      "cell_type": "markdown",
      "metadata": {
        "id": "e0r-nMScoJBF"
      },
      "source": [
        "### Task 4\n",
        "\n",
        "##### Display average payload mass carried by booster version F9 v1.1\n"
      ]
    },
    {
      "cell_type": "code",
      "execution_count": null,
      "metadata": {
        "id": "jhY3QpsSoJBF",
        "outputId": "c0769dfa-e972-417f-ea62-7855ea1ef376"
      },
      "outputs": [
        {
          "name": "stdout",
          "output_type": "stream",
          "text": [
            " * sqlite:///my_data1.db\n",
            "Done.\n"
          ]
        },
        {
          "data": {
            "text/html": [
              "<table>\n",
              "    <thead>\n",
              "        <tr>\n",
              "            <th>aerage_payload</th>\n",
              "        </tr>\n",
              "    </thead>\n",
              "    <tbody>\n",
              "        <tr>\n",
              "            <td>2928.4</td>\n",
              "        </tr>\n",
              "    </tbody>\n",
              "</table>"
            ],
            "text/plain": [
              "[(2928.4,)]"
            ]
          },
          "execution_count": 140,
          "metadata": {},
          "output_type": "execute_result"
        }
      ],
      "source": [
        "sql SELECT avg(PAYLOAD_MASS__KG_) average_payload from SPACEXTBL where Booster_Version like 'F9 v1.1';\n"
      ]
    },
    {
      "cell_type": "markdown",
      "metadata": {
        "id": "IElXwkUeoJBG"
      },
      "source": [
        "### Task 5\n",
        "\n",
        "##### List the date when the first succesful landing outcome in ground pad was acheived.\n",
        "\n",
        "*Hint:Use min function*\n"
      ]
    },
    {
      "cell_type": "code",
      "execution_count": null,
      "metadata": {
        "id": "7rFXc2wooJBG",
        "outputId": "3e96a0d9-6732-4758-dc41-49d692981d70"
      },
      "outputs": [
        {
          "name": "stdout",
          "output_type": "stream",
          "text": [
            " * sqlite:///my_data1.db\n",
            "Done.\n"
          ]
        },
        {
          "data": {
            "text/html": [
              "<table>\n",
              "    <thead>\n",
              "        <tr>\n",
              "            <th>First_Success_Date</th>\n",
              "        </tr>\n",
              "    </thead>\n",
              "    <tbody>\n",
              "        <tr>\n",
              "            <td>22-12-2015</td>\n",
              "        </tr>\n",
              "    </tbody>\n",
              "</table>"
            ],
            "text/plain": [
              "[('22-12-2015',)]"
            ]
          },
          "execution_count": 133,
          "metadata": {},
          "output_type": "execute_result"
        }
      ],
      "source": [
        "sql SELECT Min(DATE) AS First_Success_Date FROM SPACEXTBL WHERE [LANDING _OUTCOME] = 'Success (ground pad)';"
      ]
    },
    {
      "cell_type": "markdown",
      "metadata": {
        "id": "IMmp80GKoJBH"
      },
      "source": [
        "### Task 6\n",
        "\n",
        "##### List the names of the boosters which have success in drone ship and have payload mass greater than 4000 but less than 6000\n"
      ]
    },
    {
      "cell_type": "code",
      "execution_count": null,
      "metadata": {
        "id": "IoCqEBP8oJBH",
        "outputId": "9870046c-8145-41cc-8243-a3eab941c1f8"
      },
      "outputs": [
        {
          "name": "stdout",
          "output_type": "stream",
          "text": [
            " * sqlite:///my_data1.db\n",
            "Done.\n"
          ]
        },
        {
          "data": {
            "text/html": [
              "<table>\n",
              "    <thead>\n",
              "        <tr>\n",
              "            <th>Booster_Version</th>\n",
              "        </tr>\n",
              "    </thead>\n",
              "    <tbody>\n",
              "        <tr>\n",
              "            <td>F9 FT B1022</td>\n",
              "        </tr>\n",
              "        <tr>\n",
              "            <td>F9 FT B1026</td>\n",
              "        </tr>\n",
              "        <tr>\n",
              "            <td>F9 FT  B1021.2</td>\n",
              "        </tr>\n",
              "        <tr>\n",
              "            <td>F9 FT  B1031.2</td>\n",
              "        </tr>\n",
              "    </tbody>\n",
              "</table>"
            ],
            "text/plain": [
              "[('F9 FT B1022',), ('F9 FT B1026',), ('F9 FT  B1021.2',), ('F9 FT  B1031.2',)]"
            ]
          },
          "execution_count": 116,
          "metadata": {},
          "output_type": "execute_result"
        }
      ],
      "source": [
        "sql SELECT  Booster_Version from SPACEXTBL where PAYLOAD_MASS__KG_>4000 and PAYLOAD_MASS__KG_<6000 AND [LANDING _OUTCOME] = 'Success (drone ship)';\n"
      ]
    },
    {
      "cell_type": "markdown",
      "metadata": {
        "id": "I1i1DKQzoJBH"
      },
      "source": [
        "### Task 7\n",
        "\n",
        "##### List the total number of successful and failure mission outcomes\n"
      ]
    },
    {
      "cell_type": "code",
      "execution_count": null,
      "metadata": {
        "id": "aCo_JLwLoJBI",
        "outputId": "6722bc0e-548c-46cb-d06e-3b6ed26a8e8a"
      },
      "outputs": [
        {
          "name": "stdout",
          "output_type": "stream",
          "text": [
            " * sqlite:///my_data1.db\n",
            "Done.\n"
          ]
        },
        {
          "data": {
            "text/html": [
              "<table>\n",
              "    <thead>\n",
              "        <tr>\n",
              "            <th>Mission_Outcome</th>\n",
              "            <th>counts</th>\n",
              "        </tr>\n",
              "    </thead>\n",
              "    <tbody>\n",
              "        <tr>\n",
              "            <td>Failure (in flight)</td>\n",
              "            <td>1</td>\n",
              "        </tr>\n",
              "        <tr>\n",
              "            <td>Success</td>\n",
              "            <td>98</td>\n",
              "        </tr>\n",
              "        <tr>\n",
              "            <td>Success </td>\n",
              "            <td>1</td>\n",
              "        </tr>\n",
              "        <tr>\n",
              "            <td>Success (payload status unclear)</td>\n",
              "            <td>1</td>\n",
              "        </tr>\n",
              "    </tbody>\n",
              "</table>"
            ],
            "text/plain": [
              "[('Failure (in flight)', 1),\n",
              " ('Success', 98),\n",
              " ('Success ', 1),\n",
              " ('Success (payload status unclear)', 1)]"
            ]
          },
          "execution_count": 145,
          "metadata": {},
          "output_type": "execute_result"
        }
      ],
      "source": [
        "sql SELECT Mission_Outcome, COUNT(Mission_Outcome) as counts FROM SPACEXTBL group by mission_outcome;\n"
      ]
    },
    {
      "cell_type": "markdown",
      "metadata": {
        "id": "aN8OYzEdoJBI"
      },
      "source": [
        "### Task 8\n",
        "\n",
        "##### List the   names of the booster_versions which have carried the maximum payload mass. Use a subquery\n"
      ]
    },
    {
      "cell_type": "code",
      "execution_count": null,
      "metadata": {
        "id": "XmKZSG6NoJBI",
        "outputId": "d2274ac3-9319-4122-b2c7-a8851ca1b5ee"
      },
      "outputs": [
        {
          "name": "stdout",
          "output_type": "stream",
          "text": [
            " * sqlite:///my_data1.db\n",
            "Done.\n"
          ]
        },
        {
          "data": {
            "text/html": [
              "<table>\n",
              "    <thead>\n",
              "        <tr>\n",
              "            <th>Booster_Version</th>\n",
              "        </tr>\n",
              "    </thead>\n",
              "    <tbody>\n",
              "        <tr>\n",
              "            <td>F9 B5 B1048.4</td>\n",
              "        </tr>\n",
              "        <tr>\n",
              "            <td>F9 B5 B1048.5</td>\n",
              "        </tr>\n",
              "        <tr>\n",
              "            <td>F9 B5 B1049.4</td>\n",
              "        </tr>\n",
              "        <tr>\n",
              "            <td>F9 B5 B1049.5</td>\n",
              "        </tr>\n",
              "        <tr>\n",
              "            <td>F9 B5 B1049.7 </td>\n",
              "        </tr>\n",
              "        <tr>\n",
              "            <td>F9 B5 B1051.3</td>\n",
              "        </tr>\n",
              "        <tr>\n",
              "            <td>F9 B5 B1051.4</td>\n",
              "        </tr>\n",
              "        <tr>\n",
              "            <td>F9 B5 B1051.6</td>\n",
              "        </tr>\n",
              "        <tr>\n",
              "            <td>F9 B5 B1056.4</td>\n",
              "        </tr>\n",
              "        <tr>\n",
              "            <td>F9 B5 B1058.3 </td>\n",
              "        </tr>\n",
              "        <tr>\n",
              "            <td>F9 B5 B1060.2 </td>\n",
              "        </tr>\n",
              "        <tr>\n",
              "            <td>F9 B5 B1060.3</td>\n",
              "        </tr>\n",
              "    </tbody>\n",
              "</table>"
            ],
            "text/plain": [
              "[('F9 B5 B1048.4',),\n",
              " ('F9 B5 B1048.5',),\n",
              " ('F9 B5 B1049.4',),\n",
              " ('F9 B5 B1049.5',),\n",
              " ('F9 B5 B1049.7 ',),\n",
              " ('F9 B5 B1051.3',),\n",
              " ('F9 B5 B1051.4',),\n",
              " ('F9 B5 B1051.6',),\n",
              " ('F9 B5 B1056.4',),\n",
              " ('F9 B5 B1058.3 ',),\n",
              " ('F9 B5 B1060.2 ',),\n",
              " ('F9 B5 B1060.3',)]"
            ]
          },
          "execution_count": 121,
          "metadata": {},
          "output_type": "execute_result"
        }
      ],
      "source": [
        "sql SELECT distinct booster_version from SPACEXTBL where PAYLOAD_MASS__KG_=(SELECT MAX(PAYLOAD_MASS__KG_) FROM SPACEXTBL) ORDER BY BOOSTER_VERSION;\n"
      ]
    },
    {
      "cell_type": "markdown",
      "metadata": {
        "id": "u-tWXC3yoJBJ"
      },
      "source": [
        "### Task 9\n",
        "\n",
        "##### List the records which will display the month names, failure landing_outcomes in drone ship ,booster versions, launch_site for the months in year 2015.\n",
        "\n",
        "**Note: SQLLite does not support monthnames. So you need to use  substr(Date, 4, 2) as month to get the months and substr(Date,7,4)='2015' for year.**\n"
      ]
    },
    {
      "cell_type": "code",
      "execution_count": null,
      "metadata": {
        "id": "d2QEqY6GoJBJ",
        "outputId": "ae13bb59-46fd-4b1f-c56e-bce0ce685157"
      },
      "outputs": [
        {
          "name": "stdout",
          "output_type": "stream",
          "text": [
            " * sqlite:///my_data1.db\n",
            "Done.\n"
          ]
        },
        {
          "data": {
            "text/html": [
              "<table>\n",
              "    <thead>\n",
              "        <tr>\n",
              "            <th>Booster_Version</th>\n",
              "            <th>Launch_Site</th>\n",
              "        </tr>\n",
              "    </thead>\n",
              "    <tbody>\n",
              "        <tr>\n",
              "            <td>F9 v1.1 B1012</td>\n",
              "            <td>CCAFS LC-40</td>\n",
              "        </tr>\n",
              "        <tr>\n",
              "            <td>F9 v1.1 B1015</td>\n",
              "            <td>CCAFS LC-40</td>\n",
              "        </tr>\n",
              "    </tbody>\n",
              "</table>"
            ],
            "text/plain": [
              "[('F9 v1.1 B1012', 'CCAFS LC-40'), ('F9 v1.1 B1015', 'CCAFS LC-40')]"
            ]
          },
          "execution_count": 124,
          "metadata": {},
          "output_type": "execute_result"
        }
      ],
      "source": [
        "sql SELECT BOOSTER_VERSION, LAUNCH_SITE FROM SPACEXTBL WHERE [LANDING _OUTCOME] = 'Failure (drone ship)' AND DATE like '%2015%';"
      ]
    },
    {
      "cell_type": "markdown",
      "metadata": {
        "id": "TVIvtNesoJBK"
      },
      "source": [
        "### Task 10\n",
        "\n",
        "##### Rank the  count of  successful landing_outcomes between the date 04-06-2010 and 20-03-2017 in descending order.\n"
      ]
    },
    {
      "cell_type": "code",
      "execution_count": null,
      "metadata": {
        "id": "tgj_opUgoJBK",
        "outputId": "ca6de288-b866-4fa4-f546-879d56f7a34e"
      },
      "outputs": [
        {
          "name": "stdout",
          "output_type": "stream",
          "text": [
            " * sqlite:///my_data1.db\n",
            "Done.\n"
          ]
        },
        {
          "data": {
            "text/html": [
              "<table>\n",
              "    <thead>\n",
              "        <tr>\n",
              "            <th>Landing _Outcome</th>\n",
              "            <th>counts</th>\n",
              "        </tr>\n",
              "    </thead>\n",
              "    <tbody>\n",
              "        <tr>\n",
              "            <td>Success</td>\n",
              "            <td>20</td>\n",
              "        </tr>\n",
              "        <tr>\n",
              "            <td>No attempt</td>\n",
              "            <td>10</td>\n",
              "        </tr>\n",
              "        <tr>\n",
              "            <td>Success (drone ship)</td>\n",
              "            <td>8</td>\n",
              "        </tr>\n",
              "        <tr>\n",
              "            <td>Success (ground pad)</td>\n",
              "            <td>6</td>\n",
              "        </tr>\n",
              "        <tr>\n",
              "            <td>Failure (drone ship)</td>\n",
              "            <td>4</td>\n",
              "        </tr>\n",
              "        <tr>\n",
              "            <td>Failure</td>\n",
              "            <td>3</td>\n",
              "        </tr>\n",
              "        <tr>\n",
              "            <td>Controlled (ocean)</td>\n",
              "            <td>3</td>\n",
              "        </tr>\n",
              "        <tr>\n",
              "            <td>Failure (parachute)</td>\n",
              "            <td>2</td>\n",
              "        </tr>\n",
              "        <tr>\n",
              "            <td>No attempt </td>\n",
              "            <td>1</td>\n",
              "        </tr>\n",
              "    </tbody>\n",
              "</table>"
            ],
            "text/plain": [
              "[('Success', 20),\n",
              " ('No attempt', 10),\n",
              " ('Success (drone ship)', 8),\n",
              " ('Success (ground pad)', 6),\n",
              " ('Failure (drone ship)', 4),\n",
              " ('Failure', 3),\n",
              " ('Controlled (ocean)', 3),\n",
              " ('Failure (parachute)', 2),\n",
              " ('No attempt ', 1)]"
            ]
          },
          "execution_count": 132,
          "metadata": {},
          "output_type": "execute_result"
        }
      ],
      "source": [
        "sql SELECT [landing _outcome],count(*) as counts from SPACEXTBL WHERE DATE BETWEEN '04-06-2010' AND '20-03-2017' GROUP BY [LANDING _OUTCOME] ORDER BY counts DESC;"
      ]
    },
    {
      "cell_type": "markdown",
      "metadata": {
        "id": "wyDlf6YxoJBK"
      },
      "source": [
        "### Reference Links\n",
        "\n",
        "*   <a href =\"https://cf-courses-data.s3.us.cloud-object-storage.appdomain.cloud/IBMDeveloperSkillsNetwork-DB0201EN-SkillsNetwork/labs/Labs_Coursera_V5/labs/Lab%20-%20String%20Patterns%20-%20Sorting%20-%20Grouping/instructional-labs.md.html?utm_medium=Exinfluencer&utm_source=Exinfluencer&utm_content=000026UJ&utm_term=10006555&utm_id=NA-SkillsNetwork-Channel-SkillsNetworkCoursesIBMDS0321ENSkillsNetwork26802033-2022-01-01&origin=www.coursera.org\">Hands-on Lab : String Patterns, Sorting and Grouping</a>\n",
        "\n",
        "*   <a  href=\"https://cf-courses-data.s3.us.cloud-object-storage.appdomain.cloud/IBMDeveloperSkillsNetwork-DB0201EN-SkillsNetwork/labs/Labs_Coursera_V5/labs/Lab%20-%20Built-in%20functions%20/Hands-on_Lab__Built-in_Functions.md.html?utm_medium=Exinfluencer&utm_source=Exinfluencer&utm_content=000026UJ&utm_term=10006555&utm_id=NA-SkillsNetwork-Channel-SkillsNetworkCoursesIBMDS0321ENSkillsNetwork26802033-2022-01-01&origin=www.coursera.org\">Hands-on Lab: Built-in functions</a>\n",
        "\n",
        "*   <a  href=\"https://cf-courses-data.s3.us.cloud-object-storage.appdomain.cloud/IBMDeveloperSkillsNetwork-DB0201EN-SkillsNetwork/labs/Labs_Coursera_V5/labs/Lab%20-%20Sub-queries%20and%20Nested%20SELECTs%20/instructional-labs.md.html?utm_medium=Exinfluencer&utm_source=Exinfluencer&utm_content=000026UJ&utm_term=10006555&utm_id=NA-SkillsNetwork-Channel-SkillsNetworkCoursesIBMDS0321ENSkillsNetwork26802033-2022-01-01&origin=www.coursera.org\">Hands-on Lab : Sub-queries and Nested SELECT Statements</a>\n",
        "\n",
        "*   <a href=\"https://cf-courses-data.s3.us.cloud-object-storage.appdomain.cloud/IBMDeveloperSkillsNetwork-DB0201EN-SkillsNetwork/labs/Module%205/DB0201EN-Week3-1-3-SQLmagic.ipynb?utm_medium=Exinfluencer&utm_source=Exinfluencer&utm_content=000026UJ&utm_term=10006555&utm_id=NA-SkillsNetwork-Channel-SkillsNetworkCoursesIBMDS0321ENSkillsNetwork26802033-2022-01-01\">Hands-on Tutorial: Accessing Databases with SQL magic</a>\n",
        "\n",
        "*   <a href= \"https://cf-courses-data.s3.us.cloud-object-storage.appdomain.cloud/IBMDeveloperSkillsNetwork-DB0201EN-SkillsNetwork/labs/Module%205/DB0201EN-Week3-1-4-Analyzing.ipynb?utm_medium=Exinfluencer&utm_source=Exinfluencer&utm_content=000026UJ&utm_term=10006555&utm_id=NA-SkillsNetwork-Channel-SkillsNetworkCoursesIBMDS0321ENSkillsNetwork26802033-2022-01-01\">Hands-on Lab: Analyzing a real World Data Set</a>\n"
      ]
    },
    {
      "cell_type": "markdown",
      "metadata": {
        "id": "il-IHrdjoJBL"
      },
      "source": [
        "## Author(s)\n",
        "\n",
        "<h4> Lakshmi Holla </h4>\n"
      ]
    },
    {
      "cell_type": "markdown",
      "metadata": {
        "id": "OSDj0jYYoJBL"
      },
      "source": [
        "## Other Contributors\n",
        "\n",
        "<h4> Rav Ahuja </h4>\n"
      ]
    },
    {
      "cell_type": "markdown",
      "metadata": {
        "id": "ooDTZSXvoJBL"
      },
      "source": [
        "## Change log\n",
        "\n",
        "| Date       | Version | Changed by    | Change Description        |\n",
        "| ---------- | ------- | ------------- | ------------------------- |\n",
        "| 2021-07-09 | 0.2     | Lakshmi Holla | Changes made in magic sql |\n",
        "| 2021-05-20 | 0.1     | Lakshmi Holla | Created Initial Version   |\n"
      ]
    },
    {
      "cell_type": "markdown",
      "metadata": {
        "id": "Gy6TJSxvoJBM"
      },
      "source": [
        "## <h3 align=\"center\"> © IBM Corporation 2021. All rights reserved. <h3/>\n"
      ]
    }
  ],
  "metadata": {
    "kernelspec": {
      "display_name": "Python",
      "language": "python",
      "name": "conda-env-python-py"
    },
    "language_info": {
      "codemirror_mode": {
        "name": "ipython",
        "version": 3
      },
      "file_extension": ".py",
      "mimetype": "text/x-python",
      "name": "python",
      "nbconvert_exporter": "python",
      "pygments_lexer": "ipython3",
      "version": "3.7.12"
    },
    "colab": {
      "provenance": []
    }
  },
  "nbformat": 4,
  "nbformat_minor": 0
}